{
  "nbformat": 4,
  "nbformat_minor": 0,
  "metadata": {
    "colab": {
      "name": "JOSE_LUIS_RUEDA_VICENTE_SEMINARIO. ipynb",
      "provenance": [],
      "collapsed_sections": [],
      "include_colab_link": true
    },
    "kernelspec": {
      "name": "python3",
      "display_name": "Python 3"
    }
  },
  "cells": [
    {
      "cell_type": "markdown",
      "metadata": {
        "id": "view-in-github",
        "colab_type": "text"
      },
      "source": [
        "<a href=\"https://colab.research.google.com/github/Jos-rueda/03-MAIR---Algortimos-de-Optimizacion---2019/blob/master/JOSE_LUIS_RUEDA_VICENTE_SEMINARIO_ipynb.ipynb\" target=\"_parent\"><img src=\"https://colab.research.google.com/assets/colab-badge.svg\" alt=\"Open In Colab\"/></a>"
      ]
    },
    {
      "cell_type": "markdown",
      "metadata": {
        "id": "hVbXYX-RfPWh",
        "colab_type": "text"
      },
      "source": [
        "# Algoritmos de optimización - Seminario<br>\n",
        "Nombre y Apellidos: Jose Luis Rueda Vicente  <br>\n",
        "Url: https://github.com/.../03MAIR---Algoritmos-de-Optimizacion---2019/tree/master/SEMINARIO<br>\n",
        "Problema:\n",
        "> 1. Elección de grupos de población homogéneos <br>\n",
        ">2. Organizar los horarios de partidos de La Liga<br>\n",
        ">3. Combinar cifras y operaciones\n",
        "\n",
        "Descripción del problema:(copiar enunciado)\n",
        "\n",
        "PROBLEMA 3 COMBINAR CIFRAS Y OPERACIONES\n",
        ". El problema consiste en analizar el siguiente problema y diseñar un algoritmo que lo resuelva.\n",
        ". Disponemos de las 9 cifras del 1 al 9 (excluimos el 0) y de los 4 signos basicos de las operaciones fundamentales:suma(+), resta(-),multiplicacion(*) y division(/)\n",
        ". Debemos combinarlos alteranativmente sin repetir mninguno de ellos para obtener una cantidad dada. Un ejemplo seria para obtener el 4:\n",
        "4+2-6/3*1=4\n",
        "\n",
        "\n",
        "(*) La respuesta es obligatoria\n",
        "\n",
        "\n",
        "\n",
        "\n",
        "\n",
        "                                        "
      ]
    },
    {
      "cell_type": "markdown",
      "metadata": {
        "id": "P1RK7nXj0RnA",
        "colab_type": "text"
      },
      "source": [
        ""
      ]
    },
    {
      "cell_type": "code",
      "metadata": {
        "id": "AiskKkzZfy4e",
        "colab_type": "code",
        "colab": {}
      },
      "source": [
        ""
      ],
      "execution_count": 0,
      "outputs": []
    },
    {
      "cell_type": "markdown",
      "metadata": {
        "id": "3_-exlrTgLd-",
        "colab_type": "text"
      },
      "source": [
        "(*)¿Cuantas posibilidades hay sin tener en cuenta las restricciones?<br>\n",
        "\n",
        "\n",
        "\n",
        "¿Cuantas posibilidades hay teniendo en cuenta todas las restricciones.\n",
        "\n",
        "\n"
      ]
    },
    {
      "cell_type": "markdown",
      "metadata": {
        "id": "WfCUqJyKhPcw",
        "colab_type": "text"
      },
      "source": [
        "Respuesta"
      ]
    },
    {
      "cell_type": "code",
      "metadata": {
        "id": "iq6Fe32MgpDX",
        "colab_type": "code",
        "colab": {}
      },
      "source": [
        "# 9 x 4 x 8 x 3...\n",
        "\n",
        "# (9*8*7*6*5) * (4*3*2*1) = 362.880"
      ],
      "execution_count": 0,
      "outputs": []
    },
    {
      "cell_type": "markdown",
      "metadata": {
        "id": "dzynfVJahHoY",
        "colab_type": "text"
      },
      "source": [
        "Modelo para el espacio de soluciones<br>\n",
        "(*) ¿Cual es la estructura de datos que mejor se adapta al problema? Argumentalo.(Es posible que hayas elegido una al principio y veas la necesidad de cambiar, arguentalo)\n"
      ]
    },
    {
      "cell_type": "markdown",
      "metadata": {
        "id": "xFIJrOwKi2Ti",
        "colab_type": "text"
      },
      "source": [
        "Respuesta"
      ]
    },
    {
      "cell_type": "code",
      "metadata": {
        "id": "38c-7-ejhJmA",
        "colab_type": "code",
        "colab": {}
      },
      "source": [
        "# Lo mejor seria representar:\n",
        "#    - las cifras como un vector con 5 posiciones\n",
        "#    - los operadores como un vector/lista de 4 posiciones"
      ],
      "execution_count": 0,
      "outputs": []
    },
    {
      "cell_type": "markdown",
      "metadata": {
        "id": "7Z9U2W7bi-XS",
        "colab_type": "text"
      },
      "source": [
        "Según el modelo para el espacio de soluciones<br>\n",
        "(*)¿Cual es la función objetivo?\n",
        "\n",
        "(*)¿Es un problema de maximización o minimización?"
      ]
    },
    {
      "cell_type": "markdown",
      "metadata": {
        "id": "hBalWLM7j1_d",
        "colab_type": "text"
      },
      "source": [
        "Respuesta"
      ]
    },
    {
      "cell_type": "code",
      "metadata": {
        "id": "pDA-rg3Gj5Lz",
        "colab_type": "code",
        "colab": {}
      },
      "source": [
        "# función: \n",
        "# error =|cantidad_dada - resultado|\n",
        "\n",
        "# minimización: queremos que el error sea 0 para que el resultado sea el correcto"
      ],
      "execution_count": 0,
      "outputs": []
    },
    {
      "cell_type": "markdown",
      "metadata": {
        "id": "SVkHb99u6nTl",
        "colab_type": "text"
      },
      "source": [
        ""
      ]
    },
    {
      "cell_type": "markdown",
      "metadata": {
        "id": "fnJK0D3p6ilG",
        "colab_type": "text"
      },
      "source": [
        ""
      ]
    },
    {
      "cell_type": "markdown",
      "metadata": {
        "id": "rlnTYgY1j6I2",
        "colab_type": "text"
      },
      "source": [
        "Diseña un algoritmo para resolver el problema por fuerza bruta"
      ]
    },
    {
      "cell_type": "markdown",
      "metadata": {
        "id": "70rDgxYXkC8r",
        "colab_type": "text"
      },
      "source": [
        "Respuesta"
      ]
    },
    {
      "cell_type": "code",
      "metadata": {
        "id": "CJb5sQ0qkENy",
        "colab_type": "code",
        "colab": {}
      },
      "source": [
        "# Algoritmo\n",
        "\n",
        "# cifras     = [0,0,0,0,0]\n",
        "# operadores = [\"\", \"\", \"\", \"\"]\n",
        "# for n1 in (1-9)\n",
        "#     cifras[0] = n1\n",
        "#     for operador1 in [\"+\", \"-\", \"*\", \"/\"]\n",
        "#         operadores[0] = operador1\n",
        "#         for n2 in (1-9)-n1\n",
        "#             cifras[1] = n2\n",
        "#             for operador2 in [\"+\", \"-\", \"*\", \"/\"]-operador1\n",
        "#                  operadores[1] = operador2\n",
        "#                  for n3 in (1-9) - (n1, n2)\n",
        "#                      cifras[2] = n3\n",
        "#                      for operador3 in [\"+\", \"-\", \"*\", \"/\"] - (operador1, operador2)\n",
        "#                           operadores[2] = operador3\n",
        "#                           for n4 in (1-9) - (n1, n2, n3)\n",
        "#                               cifras[3] = n4\n",
        "#                               for operador4 in [\"+\", \"-\", \"*\", \"/\"] - (operador1, operador2, operador3)\n",
        "#                                   operadores[3] = operador4\n",
        "#                                   for n5 in (1-9) - (n1, n2, n3, n4)\n",
        "#                                        cifras[4] = n5"
      ],
      "execution_count": 0,
      "outputs": []
    },
    {
      "cell_type": "markdown",
      "metadata": {
        "id": "tgrnsC2nkFa8",
        "colab_type": "text"
      },
      "source": [
        "Calcula la complejidad del algoritmo por fuerza bruta"
      ]
    },
    {
      "cell_type": "markdown",
      "metadata": {
        "id": "9eUd3xwckP68",
        "colab_type": "text"
      },
      "source": [
        "Respuesta"
      ]
    },
    {
      "cell_type": "code",
      "metadata": {
        "id": "rvZWwL-ckRST",
        "colab_type": "code",
        "colab": {}
      },
      "source": [
        "# Complejidad en el peor caso probar todas las soluciones: 362.880\n",
        "\n",
        "# La complejidad no crece porque el problema está acotado a 5 cifras entre 1-9 y 4 operadores."
      ],
      "execution_count": 0,
      "outputs": []
    },
    {
      "cell_type": "markdown",
      "metadata": {
        "id": "txbrmLmskReM",
        "colab_type": "text"
      },
      "source": [
        "(*)Diseña un algoritmo que mejore la complejidad del algortimo por fuerza bruta. Argumenta porque crees que mejora el algoritmo por fuerza bruta"
      ]
    },
    {
      "cell_type": "markdown",
      "metadata": {
        "id": "hLrVwt5QkZPD",
        "colab_type": "text"
      },
      "source": [
        "Respuesta"
      ]
    },
    {
      "cell_type": "code",
      "metadata": {
        "id": "m1eyM21Vkabg",
        "colab_type": "code",
        "colab": {}
      },
      "source": [
        "# 1. No nos interesan decimales porque trabajamos con enteros y no podemos usar mas de 1 vez la division\n",
        "\n",
        "# Usamos el mismo esquema que el algoritmo de fuerza bruta, pero con unas modificaciones para descartar \n",
        "# áreas del espacio de búsqueda que no nos interesan (ej. decimales)\n",
        "\n",
        "# Para el caso de los decimales: \n",
        "#    1. miramos que hay salido el signo de multplicacion y de division\n",
        "#    2. miramos que la expresión no evalúe a un decimal. si lo hace, \n",
        "#       cortamos esa rama y seguimos con la siguiente combinacion"
      ],
      "execution_count": 0,
      "outputs": []
    },
    {
      "cell_type": "markdown",
      "metadata": {
        "id": "eGDB4K6uk1iN",
        "colab_type": "text"
      },
      "source": [
        "(*)Calcula la complejidad del algoritmo "
      ]
    },
    {
      "cell_type": "markdown",
      "metadata": {
        "id": "NhpTh_BPk1ms",
        "colab_type": "text"
      },
      "source": [
        "Respuesta"
      ]
    },
    {
      "cell_type": "code",
      "metadata": {
        "id": "nREzhkStlCq8",
        "colab_type": "code",
        "colab": {}
      },
      "source": [
        "# Difícil de saber, aunque seguramente mejor que la fuerza bruta "
      ],
      "execution_count": 0,
      "outputs": []
    },
    {
      "cell_type": "markdown",
      "metadata": {
        "id": "3M6QjTsSkmYe",
        "colab_type": "text"
      },
      "source": [
        "Según el problema (y tenga sentido), diseña un juego de datos de entrada aleatorios"
      ]
    },
    {
      "cell_type": "markdown",
      "metadata": {
        "id": "Jc3_OlyNkvjZ",
        "colab_type": "text"
      },
      "source": [
        "Respuesta"
      ]
    },
    {
      "cell_type": "code",
      "metadata": {
        "id": "sJ-N2etjkyWc",
        "colab_type": "code",
        "colab": {}
      },
      "source": [
        "sol = 5"
      ],
      "execution_count": 0,
      "outputs": []
    },
    {
      "cell_type": "markdown",
      "metadata": {
        "id": "zy5ZROmjlGo1",
        "colab_type": "text"
      },
      "source": [
        "Aplica el algoritmo al juego de datos generado"
      ]
    },
    {
      "cell_type": "markdown",
      "metadata": {
        "id": "_Cmj-PVylMsa",
        "colab_type": "text"
      },
      "source": [
        "Respuesta"
      ]
    },
    {
      "cell_type": "code",
      "metadata": {
        "id": "Jkx8GeiYlUz1",
        "colab_type": "code",
        "colab": {
          "base_uri": "https://localhost:8080/",
          "height": 51
        },
        "outputId": "90b1cbf0-c845-4f64-a6f5-e7ccb9b323c0"
      },
      "source": [
        "sol=4\n",
        "def error(nums, ops, sol, verbose=True):\n",
        "    operacion = \"\"\n",
        "    for i in range(len(nums)-1):\n",
        "        operacion = operacion+str(nums[i])+str(ops[i])\n",
        "    operacion = operacion+str(nums[-1])\n",
        "    \n",
        "    if verbose:\n",
        "        print(operacion)\n",
        "        \n",
        "    res = eval(operacion)\n",
        "    return abs(sol-res)\n",
        "\n",
        "def check_decimal(nums, ops, cut=3, verbose=False):\n",
        "    operacion = \"\"\n",
        "    for i in range(cut):\n",
        "        operacion = operacion+str(nums[i])+str(ops[i])\n",
        "    operacion = operacion+str(cut)\n",
        "        \n",
        "    if verbose:\n",
        "        print(operacion)\n",
        "      \n",
        "    res = eval(operacion)\n",
        "    return False if res-int(res) == 0 else True\n",
        "\n",
        "\n",
        "candidatos = set([i for i in range(1, 9+1)])\n",
        "cands_ops  = set([\"+\", \"-\", \"*\", \"/\"])\n",
        "numeros    = [\"\",\"\",\"\",\"\",\"\"]\n",
        "operadores = [\"\", \"\", \"\", \"\"]\n",
        "\n",
        "try:\n",
        "    for num1 in candidatos:\n",
        "        numeros[0] = num1\n",
        "        for op1 in cands_ops:\n",
        "            operadores[0] = op1\n",
        "            for num2 in candidatos-set([num1]):\n",
        "                numeros[1] = num2\n",
        "                for op2 in cands_ops-set([op1]):\n",
        "                    operadores[1] = op2\n",
        "                    for num3 in candidatos-set([num1, num2]):\n",
        "                        numeros[2] = num3\n",
        "                        for op3 in cands_ops-set([op1, op2]):\n",
        "                            operadores[2] = op3\n",
        "                            # primer check que no hay decimales\n",
        "                            if \"/\" in operadores and \"*\" in operadores:\n",
        "                                if check_decimal(numeros, operadores, cut=3, verbose=False): break\n",
        "                            for num4 in candidatos-set([num1, num2, num3]):\n",
        "                                numeros[3] = num4\n",
        "                                for op4 in cands_ops-set([op1, op2, op3]):\n",
        "                                    operadores[3] = op4\n",
        "                                    # Segundo check que no hay decimales\n",
        "                                    if \"/\" in operadores and \"*\" in operadores:\n",
        "                                        if check_decimal(numeros, operadores, cut=4): break\n",
        "                                    for num5 in candidatos-set([num1, num2, num3, num4]):\n",
        "                                        numeros[4] = num5\n",
        "                                        # evaluar si la solucion es correcta\n",
        "                                        loss = error(numeros, operadores, sol, verbose=False)\n",
        "                                        if loss == 0:\n",
        "                                            raise StopIteration\n",
        "except StopIteration:                                      \n",
        "    # print(\"lo hemos conseguido\")\n",
        "    print(\"Solucion: \")\n",
        "    error(numeros, operadores, sol)"
      ],
      "execution_count": 22,
      "outputs": [
        {
          "output_type": "stream",
          "text": [
            "Solucion: \n",
            "1+3*8/2-9\n"
          ],
          "name": "stdout"
        }
      ]
    },
    {
      "cell_type": "markdown",
      "metadata": {
        "colab_type": "text",
        "id": "eTFWUJQrtGcv"
      },
      "source": [
        "Enumera las referencias que has utilizado(si ha sido necesario) para llevar a cabo el trabajo"
      ]
    },
    {
      "cell_type": "markdown",
      "metadata": {
        "id": "YKQ_mRBttWsP",
        "colab_type": "text"
      },
      "source": [
        "Respuesta"
      ]
    },
    {
      "cell_type": "markdown",
      "metadata": {
        "id": "kAkDPUyRtYyH",
        "colab_type": "text"
      },
      "source": [
        "Describe brevemente las lineas de como crees que es posible avanzar en el estudio del problema. Ten en cuenta incluso posibles variaciones del problema y/o variaciones al alza del tamaño"
      ]
    },
    {
      "cell_type": "markdown",
      "metadata": {
        "id": "IE0uZmo-tZu-",
        "colab_type": "text"
      },
      "source": [
        "- Creo que se podría hacer un análisis del orden de operaciones(poner multiplicacion y division al principio ya que son los que generanlos de cimales y así podríamos quitarlos del medio antes)\n",
        "\n",
        "- Otra idea sería ordenar los numeros que vamos poniendo para empezar con los más pequeños/grandes ? depende de los resultados.Respuesta"
      ]
    }
  ]
}